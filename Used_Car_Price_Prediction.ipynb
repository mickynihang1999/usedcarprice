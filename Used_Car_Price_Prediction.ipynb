{
  "cells": [
    {
      "cell_type": "code",
      "execution_count": 3,
      "metadata": {
        "id": "mNaOsPbcXFCC"
      },
      "outputs": [],
      "source": [
        "import pandas as pd\n",
        "import numpy as np"
      ]
    },
    {
      "cell_type": "code",
      "execution_count": 4,
      "metadata": {
        "id": "ESAHepseXFCJ"
      },
      "outputs": [],
      "source": [
        "df = pd.read_csv(\"car data.csv\")"
      ]
    },
    {
      "cell_type": "code",
      "execution_count": 5,
      "metadata": {
        "colab": {
          "base_uri": "https://localhost:8080/",
          "height": 267
        },
        "id": "J9uhV0aXXFCK",
        "outputId": "ca3439a1-71ff-4bf1-b191-084017fe9519"
      },
      "outputs": [
        {
          "output_type": "execute_result",
          "data": {
            "text/plain": [
              "          Car_Name  Year  Selling_Price  Present_Price  Kms_Driven Fuel_Type  \\\n",
              "295           city  2015           8.55          13.09       60076    Diesel   \n",
              "17          ertiga  2016           7.75          10.79       43000    Diesel   \n",
              "179  Honda Karizma  2010           0.31           1.05      213000    Petrol   \n",
              "88      etios liva  2013           3.45           6.05       47000    Petrol   \n",
              "260           city  2016           9.15          13.60       29223    Petrol   \n",
              "\n",
              "    Seller_Type Transmission  Owner  \n",
              "295      Dealer       Manual      0  \n",
              "17       Dealer       Manual      0  \n",
              "179  Individual       Manual      0  \n",
              "88       Dealer       Manual      0  \n",
              "260      Dealer       Manual      0  "
            ],
            "text/html": [
              "\n",
              "  <div id=\"df-7e6d8672-b4dd-4480-8c9e-563b0eb7a6fe\">\n",
              "    <div class=\"colab-df-container\">\n",
              "      <div>\n",
              "<style scoped>\n",
              "    .dataframe tbody tr th:only-of-type {\n",
              "        vertical-align: middle;\n",
              "    }\n",
              "\n",
              "    .dataframe tbody tr th {\n",
              "        vertical-align: top;\n",
              "    }\n",
              "\n",
              "    .dataframe thead th {\n",
              "        text-align: right;\n",
              "    }\n",
              "</style>\n",
              "<table border=\"1\" class=\"dataframe\">\n",
              "  <thead>\n",
              "    <tr style=\"text-align: right;\">\n",
              "      <th></th>\n",
              "      <th>Car_Name</th>\n",
              "      <th>Year</th>\n",
              "      <th>Selling_Price</th>\n",
              "      <th>Present_Price</th>\n",
              "      <th>Kms_Driven</th>\n",
              "      <th>Fuel_Type</th>\n",
              "      <th>Seller_Type</th>\n",
              "      <th>Transmission</th>\n",
              "      <th>Owner</th>\n",
              "    </tr>\n",
              "  </thead>\n",
              "  <tbody>\n",
              "    <tr>\n",
              "      <th>295</th>\n",
              "      <td>city</td>\n",
              "      <td>2015</td>\n",
              "      <td>8.55</td>\n",
              "      <td>13.09</td>\n",
              "      <td>60076</td>\n",
              "      <td>Diesel</td>\n",
              "      <td>Dealer</td>\n",
              "      <td>Manual</td>\n",
              "      <td>0</td>\n",
              "    </tr>\n",
              "    <tr>\n",
              "      <th>17</th>\n",
              "      <td>ertiga</td>\n",
              "      <td>2016</td>\n",
              "      <td>7.75</td>\n",
              "      <td>10.79</td>\n",
              "      <td>43000</td>\n",
              "      <td>Diesel</td>\n",
              "      <td>Dealer</td>\n",
              "      <td>Manual</td>\n",
              "      <td>0</td>\n",
              "    </tr>\n",
              "    <tr>\n",
              "      <th>179</th>\n",
              "      <td>Honda Karizma</td>\n",
              "      <td>2010</td>\n",
              "      <td>0.31</td>\n",
              "      <td>1.05</td>\n",
              "      <td>213000</td>\n",
              "      <td>Petrol</td>\n",
              "      <td>Individual</td>\n",
              "      <td>Manual</td>\n",
              "      <td>0</td>\n",
              "    </tr>\n",
              "    <tr>\n",
              "      <th>88</th>\n",
              "      <td>etios liva</td>\n",
              "      <td>2013</td>\n",
              "      <td>3.45</td>\n",
              "      <td>6.05</td>\n",
              "      <td>47000</td>\n",
              "      <td>Petrol</td>\n",
              "      <td>Dealer</td>\n",
              "      <td>Manual</td>\n",
              "      <td>0</td>\n",
              "    </tr>\n",
              "    <tr>\n",
              "      <th>260</th>\n",
              "      <td>city</td>\n",
              "      <td>2016</td>\n",
              "      <td>9.15</td>\n",
              "      <td>13.60</td>\n",
              "      <td>29223</td>\n",
              "      <td>Petrol</td>\n",
              "      <td>Dealer</td>\n",
              "      <td>Manual</td>\n",
              "      <td>0</td>\n",
              "    </tr>\n",
              "  </tbody>\n",
              "</table>\n",
              "</div>\n",
              "      <button class=\"colab-df-convert\" onclick=\"convertToInteractive('df-7e6d8672-b4dd-4480-8c9e-563b0eb7a6fe')\"\n",
              "              title=\"Convert this dataframe to an interactive table.\"\n",
              "              style=\"display:none;\">\n",
              "        \n",
              "  <svg xmlns=\"http://www.w3.org/2000/svg\" height=\"24px\"viewBox=\"0 0 24 24\"\n",
              "       width=\"24px\">\n",
              "    <path d=\"M0 0h24v24H0V0z\" fill=\"none\"/>\n",
              "    <path d=\"M18.56 5.44l.94 2.06.94-2.06 2.06-.94-2.06-.94-.94-2.06-.94 2.06-2.06.94zm-11 1L8.5 8.5l.94-2.06 2.06-.94-2.06-.94L8.5 2.5l-.94 2.06-2.06.94zm10 10l.94 2.06.94-2.06 2.06-.94-2.06-.94-.94-2.06-.94 2.06-2.06.94z\"/><path d=\"M17.41 7.96l-1.37-1.37c-.4-.4-.92-.59-1.43-.59-.52 0-1.04.2-1.43.59L10.3 9.45l-7.72 7.72c-.78.78-.78 2.05 0 2.83L4 21.41c.39.39.9.59 1.41.59.51 0 1.02-.2 1.41-.59l7.78-7.78 2.81-2.81c.8-.78.8-2.07 0-2.86zM5.41 20L4 18.59l7.72-7.72 1.47 1.35L5.41 20z\"/>\n",
              "  </svg>\n",
              "      </button>\n",
              "      \n",
              "  <style>\n",
              "    .colab-df-container {\n",
              "      display:flex;\n",
              "      flex-wrap:wrap;\n",
              "      gap: 12px;\n",
              "    }\n",
              "\n",
              "    .colab-df-convert {\n",
              "      background-color: #E8F0FE;\n",
              "      border: none;\n",
              "      border-radius: 50%;\n",
              "      cursor: pointer;\n",
              "      display: none;\n",
              "      fill: #1967D2;\n",
              "      height: 32px;\n",
              "      padding: 0 0 0 0;\n",
              "      width: 32px;\n",
              "    }\n",
              "\n",
              "    .colab-df-convert:hover {\n",
              "      background-color: #E2EBFA;\n",
              "      box-shadow: 0px 1px 2px rgba(60, 64, 67, 0.3), 0px 1px 3px 1px rgba(60, 64, 67, 0.15);\n",
              "      fill: #174EA6;\n",
              "    }\n",
              "\n",
              "    [theme=dark] .colab-df-convert {\n",
              "      background-color: #3B4455;\n",
              "      fill: #D2E3FC;\n",
              "    }\n",
              "\n",
              "    [theme=dark] .colab-df-convert:hover {\n",
              "      background-color: #434B5C;\n",
              "      box-shadow: 0px 1px 3px 1px rgba(0, 0, 0, 0.15);\n",
              "      filter: drop-shadow(0px 1px 2px rgba(0, 0, 0, 0.3));\n",
              "      fill: #FFFFFF;\n",
              "    }\n",
              "  </style>\n",
              "\n",
              "      <script>\n",
              "        const buttonEl =\n",
              "          document.querySelector('#df-7e6d8672-b4dd-4480-8c9e-563b0eb7a6fe button.colab-df-convert');\n",
              "        buttonEl.style.display =\n",
              "          google.colab.kernel.accessAllowed ? 'block' : 'none';\n",
              "\n",
              "        async function convertToInteractive(key) {\n",
              "          const element = document.querySelector('#df-7e6d8672-b4dd-4480-8c9e-563b0eb7a6fe');\n",
              "          const dataTable =\n",
              "            await google.colab.kernel.invokeFunction('convertToInteractive',\n",
              "                                                     [key], {});\n",
              "          if (!dataTable) return;\n",
              "\n",
              "          const docLinkHtml = 'Like what you see? Visit the ' +\n",
              "            '<a target=\"_blank\" href=https://colab.research.google.com/notebooks/data_table.ipynb>data table notebook</a>'\n",
              "            + ' to learn more about interactive tables.';\n",
              "          element.innerHTML = '';\n",
              "          dataTable['output_type'] = 'display_data';\n",
              "          await google.colab.output.renderOutput(dataTable, element);\n",
              "          const docLink = document.createElement('div');\n",
              "          docLink.innerHTML = docLinkHtml;\n",
              "          element.appendChild(docLink);\n",
              "        }\n",
              "      </script>\n",
              "    </div>\n",
              "  </div>\n",
              "  "
            ]
          },
          "metadata": {},
          "execution_count": 5
        }
      ],
      "source": [
        "df.sample(5)"
      ]
    },
    {
      "cell_type": "code",
      "execution_count": 6,
      "metadata": {
        "colab": {
          "base_uri": "https://localhost:8080/"
        },
        "id": "bAtffD_cXFCM",
        "outputId": "d870a89e-c651-4427-a039-4c5bf7405c51"
      },
      "outputs": [
        {
          "output_type": "execute_result",
          "data": {
            "text/plain": [
              "(301, 9)"
            ]
          },
          "metadata": {},
          "execution_count": 6
        }
      ],
      "source": [
        "df.shape"
      ]
    },
    {
      "cell_type": "code",
      "execution_count": 7,
      "metadata": {
        "colab": {
          "base_uri": "https://localhost:8080/"
        },
        "id": "at3ak1GwXFCN",
        "outputId": "0f9ed6ac-25ab-4c36-b3e3-d6fd2dd809e4"
      },
      "outputs": [
        {
          "output_type": "execute_result",
          "data": {
            "text/plain": [
              "False"
            ]
          },
          "metadata": {},
          "execution_count": 7
        }
      ],
      "source": [
        "df.isna().values.any() # so there is no any value"
      ]
    },
    {
      "cell_type": "code",
      "execution_count": 8,
      "metadata": {
        "colab": {
          "base_uri": "https://localhost:8080/"
        },
        "id": "lmrovBdRXFCO",
        "outputId": "6c5ba1c3-35bb-4ab0-c880-a6524ae681b8"
      },
      "outputs": [
        {
          "output_type": "stream",
          "name": "stdout",
          "text": [
            "Fuel Type:  ['Petrol' 'Diesel' 'CNG']\n",
            "Seller Type:  ['Dealer' 'Individual']\n",
            "Transmission:  ['Manual' 'Automatic']\n",
            "Owner:  [0 1 3]\n"
          ]
        }
      ],
      "source": [
        "print(\"Fuel Type: \", df.Fuel_Type.unique())\n",
        "print(\"Seller Type: \", df.Seller_Type.unique())\n",
        "print(\"Transmission: \", df.Transmission.unique())\n",
        "print(\"Owner: \", df.Owner.unique())"
      ]
    },
    {
      "cell_type": "code",
      "execution_count": 9,
      "metadata": {
        "colab": {
          "base_uri": "https://localhost:8080/"
        },
        "id": "t90parCCXFCP",
        "outputId": "b6509b61-2a28-4fae-9bb6-97f3c354e9d3"
      },
      "outputs": [
        {
          "output_type": "execute_result",
          "data": {
            "text/plain": [
              "0      2022\n",
              "1      2022\n",
              "2      2022\n",
              "3      2022\n",
              "4      2022\n",
              "       ... \n",
              "296    2022\n",
              "297    2022\n",
              "298    2022\n",
              "299    2022\n",
              "300    2022\n",
              "Name: Current_year, Length: 301, dtype: int64"
            ]
          },
          "metadata": {},
          "execution_count": 9
        }
      ],
      "source": [
        "from datetime import datetime\n",
        "\n",
        "df[\"Current_year\"] = datetime.now().year\n",
        "\n",
        "df[\"Year\"] = df.Current_year - df.Year\n",
        "df['Current_year']"
      ]
    },
    {
      "cell_type": "code",
      "execution_count": 10,
      "metadata": {
        "id": "_eQKgrZgXFCR"
      },
      "outputs": [],
      "source": [
        "df.drop(columns=\"Current_year\", axis = 1, inplace = True)"
      ]
    },
    {
      "cell_type": "code",
      "execution_count": 11,
      "metadata": {
        "id": "fqUHPQcXXFCS"
      },
      "outputs": [],
      "source": [
        "dummy = pd.get_dummies(df[[\"Fuel_Type\", \"Seller_Type\", \"Transmission\"]], drop_first = True)\n",
        "\n",
        "df = pd.concat( [df, dummy], axis = 1)\n",
        "\n",
        "df.drop(columns = [\"Fuel_Type\", \"Seller_Type\", \"Transmission\"], inplace = True)"
      ]
    },
    {
      "cell_type": "code",
      "execution_count": 12,
      "metadata": {
        "colab": {
          "base_uri": "https://localhost:8080/",
          "height": 478
        },
        "id": "MD_tRLcLXFCT",
        "outputId": "73400742-6e8d-4f6f-bd41-8651076cd67d"
      },
      "outputs": [
        {
          "output_type": "display_data",
          "data": {
            "text/plain": [
              "<Figure size 720x432 with 2 Axes>"
            ],
            "image/png": "[encoded data removed]"
          },
          "metadata": {
            "needs_background": "light"
          }
        }
      ],
      "source": [
        "# let's get a corelation of our data\n",
        "\n",
        "import matplotlib.pyplot as plt\n",
        "import seaborn as sns\n",
        "%matplotlib inline\n",
        "\n",
        "plt.figure(figsize = (10, 6))\n",
        "sns.heatmap(df.corr(), annot = True)\n",
        "plt.show()"
      ]
    },
    {
      "cell_type": "code",
      "execution_count": 13,
      "metadata": {
        "id": "4VSZ6t2YXFCU"
      },
      "outputs": [],
      "source": [
        "# let's encode Car_Name text data using one hot encoding\n",
        "\n",
        "# for this let's convert first Car_Names data into lowercase\n",
        "\n",
        "df.Car_Name = df.Car_Name.str.lower()\n",
        "\n",
        "dummy = pd.get_dummies(df.Car_Name, drop_first = True)\n",
        "# here we dropped first columns which is 800 for prevent dummy variable trap \n",
        "\n",
        "df = pd.concat([df, dummy], axis = 1)\n",
        "# now we don't need Car_Name columns so let's drop it\n",
        "df.drop(\"Car_Name\", axis = 1, inplace = True)"
      ]
    },
    {
      "cell_type": "code",
      "execution_count": 14,
      "metadata": {
        "id": "ctOAZZFpXFCV"
      },
      "outputs": [],
      "source": [
        "X = df.drop(columns=\"Selling_Price\")\n",
        "y = df.Selling_Price"
      ]
    },
    {
      "cell_type": "code",
      "execution_count": 15,
      "metadata": {
        "id": "GRkvtsSYXFCW"
      },
      "outputs": [],
      "source": [
        "from sklearn.ensemble import ExtraTreesRegressor\n",
        "\n",
        "etr = ExtraTreesRegressor()\n",
        "etr.fit(X, y)\n",
        "important_features = etr.feature_importances_"
      ]
    },
    {
      "cell_type": "code",
      "execution_count": 16,
      "metadata": {
        "colab": {
          "base_uri": "https://localhost:8080/",
          "height": 390
        },
        "id": "u5zjYroeXFCX",
        "outputId": "a583c88d-88c2-485f-e470-9225957bf912"
      },
      "outputs": [
        {
          "output_type": "display_data",
          "data": {
            "text/plain": [
              "<Figure size 720x432 with 1 Axes>"
            ],
            "image/png": "[encoded data removed]"
          },
          "metadata": {
            "needs_background": "light"
          }
        }
      ],
      "source": [
        "important_features = pd.Series(important_features, index = X.columns).sort_values(ascending = False)\n",
        "\n",
        "plt.figure(figsize = (10, 6))\n",
        "important_features[:5].plot(kind = \"barh\")\n",
        "plt.title(\"Top 5 Important Feature\")\n",
        "\n",
        "plt.show()"
      ]
    },
    {
      "cell_type": "code",
      "execution_count": 17,
      "metadata": {
        "id": "SBsechZfXFCY"
      },
      "outputs": [],
      "source": [
        "from sklearn.model_selection import train_test_split\n",
        "\n",
        "X_train, X_test, y_train, y_test = train_test_split(X, y, test_size = 0.20)"
      ]
    },
    {
      "cell_type": "code",
      "source": [
        "from sklearn.ensemble import RandomForestRegressor\n",
        "rf_random = RandomForestRegressor()"
      ],
      "metadata": {
        "id": "KcKjOCodvhxd"
      },
      "execution_count": 18,
      "outputs": []
    },
    {
      "cell_type": "code",
      "source": [
        "n_estimators = [int(x) for x in np.linspace(start=100,stop=1200,num=12)]\n",
        "max_features = ['auto']\n",
        "max_depth = [int(x) for x in np.linspace(5,30,num=6)]\n",
        "min_samples_split = [2,5,10,20,40]\n",
        "min_samples_leaf = [1,2,4,8]"
      ],
      "metadata": {
        "id": "0VMZVZR_voLW"
      },
      "execution_count": 19,
      "outputs": []
    },
    {
      "cell_type": "code",
      "source": [
        "from sklearn.model_selection import RandomizedSearchCV"
      ],
      "metadata": {
        "id": "EwkpMvktvszX"
      },
      "execution_count": 20,
      "outputs": []
    },
    {
      "cell_type": "code",
      "source": [
        "random_grid = {'n_estimators' : n_estimators,\n",
        "               'max_features' : max_features,\n",
        "               'max_depth' : max_depth,\n",
        "               'min_samples_split' : min_samples_split,\n",
        "               'min_samples_leaf' : min_samples_leaf\n",
        "               }\n",
        "\n",
        "print(random_grid)"
      ],
      "metadata": {
        "colab": {
          "base_uri": "https://localhost:8080/"
        },
        "id": "MjfN0fnDv1ZV",
        "outputId": "8f2d3120-8391-48e0-afaa-5d3eb78c3cb3"
      },
      "execution_count": 21,
      "outputs": [
        {
          "output_type": "stream",
          "name": "stdout",
          "text": [
            "{'n_estimators': [100, 200, 300, 400, 500, 600, 700, 800, 900, 1000, 1100, 1200], 'max_features': ['auto'], 'max_depth': [5, 10, 15, 20, 25, 30], 'min_samples_split': [2, 5, 10, 20, 40], 'min_samples_leaf': [1, 2, 4, 8]}\n"
          ]
        }
      ]
    },
    {
      "cell_type": "code",
      "source": [
        "rf = RandomForestRegressor()\n",
        "random_rf = RandomizedSearchCV(estimator = rf,param_distributions=random_grid,scoring='neg_mean_squared_error',n_iter=10,cv=5,verbose=2,random_state=42,n_jobs=1)"
      ],
      "metadata": {
        "id": "VATjDRNSv4IB"
      },
      "execution_count": 22,
      "outputs": []
    },
    {
      "cell_type": "code",
      "source": [
        "random_rf.fit(X_train,y_train)"
      ],
      "metadata": {
        "colab": {
          "base_uri": "https://localhost:8080/"
        },
        "id": "F6Ozfd3lv-3v",
        "outputId": "2b81da83-1693-4ea8-e666-66c8a697769e"
      },
      "execution_count": 23,
      "outputs": [
        {
          "output_type": "stream",
          "name": "stdout",
          "text": [
            "Fitting 5 folds for each of 10 candidates, totalling 50 fits\n",
            "[CV] END max_depth=25, max_features=auto, min_samples_leaf=4, min_samples_split=20, n_estimators=1100; total time=   1.6s\n",
            "[CV] END max_depth=25, max_features=auto, min_samples_leaf=4, min_samples_split=20, n_estimators=1100; total time=   1.6s\n",
            "[CV] END max_depth=25, max_features=auto, min_samples_leaf=4, min_samples_split=20, n_estimators=1100; total time=   1.5s\n",
            "[CV] END max_depth=25, max_features=auto, min_samples_leaf=4, min_samples_split=20, n_estimators=1100; total time=   1.5s\n",
            "[CV] END max_depth=25, max_features=auto, min_samples_leaf=4, min_samples_split=20, n_estimators=1100; total time=   1.5s\n",
            "[CV] END max_depth=20, max_features=auto, min_samples_leaf=4, min_samples_split=5, n_estimators=900; total time=   1.3s\n",
            "[CV] END max_depth=20, max_features=auto, min_samples_leaf=4, min_samples_split=5, n_estimators=900; total time=   1.9s\n",
            "[CV] END max_depth=20, max_features=auto, min_samples_leaf=4, min_samples_split=5, n_estimators=900; total time=   1.4s\n",
            "[CV] END max_depth=20, max_features=auto, min_samples_leaf=4, min_samples_split=5, n_estimators=900; total time=   1.3s\n",
            "[CV] END max_depth=20, max_features=auto, min_samples_leaf=4, min_samples_split=5, n_estimators=900; total time=   1.3s\n",
            "[CV] END max_depth=30, max_features=auto, min_samples_leaf=2, min_samples_split=10, n_estimators=1100; total time=   1.7s\n",
            "[CV] END max_depth=30, max_features=auto, min_samples_leaf=2, min_samples_split=10, n_estimators=1100; total time=   1.6s\n",
            "[CV] END max_depth=30, max_features=auto, min_samples_leaf=2, min_samples_split=10, n_estimators=1100; total time=   1.6s\n",
            "[CV] END max_depth=30, max_features=auto, min_samples_leaf=2, min_samples_split=10, n_estimators=1100; total time=   1.6s\n",
            "[CV] END max_depth=30, max_features=auto, min_samples_leaf=2, min_samples_split=10, n_estimators=1100; total time=   1.6s\n",
            "[CV] END max_depth=25, max_features=auto, min_samples_leaf=4, min_samples_split=40, n_estimators=300; total time=   0.4s\n",
            "[CV] END max_depth=25, max_features=auto, min_samples_leaf=4, min_samples_split=40, n_estimators=300; total time=   0.4s\n",
            "[CV] END max_depth=25, max_features=auto, min_samples_leaf=4, min_samples_split=40, n_estimators=300; total time=   0.4s\n",
            "[CV] END max_depth=25, max_features=auto, min_samples_leaf=4, min_samples_split=40, n_estimators=300; total time=   0.4s\n",
            "[CV] END max_depth=25, max_features=auto, min_samples_leaf=4, min_samples_split=40, n_estimators=300; total time=   0.4s\n",
            "[CV] END max_depth=25, max_features=auto, min_samples_leaf=4, min_samples_split=5, n_estimators=400; total time=   0.6s\n",
            "[CV] END max_depth=25, max_features=auto, min_samples_leaf=4, min_samples_split=5, n_estimators=400; total time=   0.6s\n",
            "[CV] END max_depth=25, max_features=auto, min_samples_leaf=4, min_samples_split=5, n_estimators=400; total time=   0.6s\n",
            "[CV] END max_depth=25, max_features=auto, min_samples_leaf=4, min_samples_split=5, n_estimators=400; total time=   0.6s\n",
            "[CV] END max_depth=25, max_features=auto, min_samples_leaf=4, min_samples_split=5, n_estimators=400; total time=   0.6s\n",
            "[CV] END max_depth=25, max_features=auto, min_samples_leaf=2, min_samples_split=10, n_estimators=100; total time=   0.2s\n",
            "[CV] END max_depth=25, max_features=auto, min_samples_leaf=2, min_samples_split=10, n_estimators=100; total time=   0.2s\n",
            "[CV] END max_depth=25, max_features=auto, min_samples_leaf=2, min_samples_split=10, n_estimators=100; total time=   0.2s\n",
            "[CV] END max_depth=25, max_features=auto, min_samples_leaf=2, min_samples_split=10, n_estimators=100; total time=   0.2s\n",
            "[CV] END max_depth=25, max_features=auto, min_samples_leaf=2, min_samples_split=10, n_estimators=100; total time=   0.2s\n",
            "[CV] END max_depth=5, max_features=auto, min_samples_leaf=4, min_samples_split=2, n_estimators=200; total time=   0.3s\n",
            "[CV] END max_depth=5, max_features=auto, min_samples_leaf=4, min_samples_split=2, n_estimators=200; total time=   0.3s\n",
            "[CV] END max_depth=5, max_features=auto, min_samples_leaf=4, min_samples_split=2, n_estimators=200; total time=   0.3s\n",
            "[CV] END max_depth=5, max_features=auto, min_samples_leaf=4, min_samples_split=2, n_estimators=200; total time=   0.3s\n",
            "[CV] END max_depth=5, max_features=auto, min_samples_leaf=4, min_samples_split=2, n_estimators=200; total time=   0.3s\n",
            "[CV] END max_depth=10, max_features=auto, min_samples_leaf=8, min_samples_split=20, n_estimators=1100; total time=   1.5s\n",
            "[CV] END max_depth=10, max_features=auto, min_samples_leaf=8, min_samples_split=20, n_estimators=1100; total time=   1.5s\n",
            "[CV] END max_depth=10, max_features=auto, min_samples_leaf=8, min_samples_split=20, n_estimators=1100; total time=   1.5s\n",
            "[CV] END max_depth=10, max_features=auto, min_samples_leaf=8, min_samples_split=20, n_estimators=1100; total time=   1.5s\n",
            "[CV] END max_depth=10, max_features=auto, min_samples_leaf=8, min_samples_split=20, n_estimators=1100; total time=   2.1s\n",
            "[CV] END max_depth=30, max_features=auto, min_samples_leaf=1, min_samples_split=20, n_estimators=300; total time=   1.0s\n",
            "[CV] END max_depth=30, max_features=auto, min_samples_leaf=1, min_samples_split=20, n_estimators=300; total time=   0.5s\n",
            "[CV] END max_depth=30, max_features=auto, min_samples_leaf=1, min_samples_split=20, n_estimators=300; total time=   1.0s\n",
            "[CV] END max_depth=30, max_features=auto, min_samples_leaf=1, min_samples_split=20, n_estimators=300; total time=   0.4s\n",
            "[CV] END max_depth=30, max_features=auto, min_samples_leaf=1, min_samples_split=20, n_estimators=300; total time=   0.4s\n",
            "[CV] END max_depth=10, max_features=auto, min_samples_leaf=2, min_samples_split=10, n_estimators=700; total time=   1.1s\n",
            "[CV] END max_depth=10, max_features=auto, min_samples_leaf=2, min_samples_split=10, n_estimators=700; total time=   1.0s\n",
            "[CV] END max_depth=10, max_features=auto, min_samples_leaf=2, min_samples_split=10, n_estimators=700; total time=   1.0s\n",
            "[CV] END max_depth=10, max_features=auto, min_samples_leaf=2, min_samples_split=10, n_estimators=700; total time=   1.0s\n",
            "[CV] END max_depth=10, max_features=auto, min_samples_leaf=2, min_samples_split=10, n_estimators=700; total time=   1.3s\n"
          ]
        },
        {
          "output_type": "execute_result",
          "data": {
            "text/plain": [
              "RandomizedSearchCV(cv=5, estimator=RandomForestRegressor(), n_jobs=1,\n",
              "                   param_distributions={'max_depth': [5, 10, 15, 20, 25, 30],\n",
              "                                        'max_features': ['auto'],\n",
              "                                        'min_samples_leaf': [1, 2, 4, 8],\n",
              "                                        'min_samples_split': [2, 5, 10, 20, 40],\n",
              "                                        'n_estimators': [100, 200, 300, 400,\n",
              "                                                         500, 600, 700, 800,\n",
              "                                                         900, 1000, 1100,\n",
              "                                                         1200]},\n",
              "                   random_state=42, scoring='neg_mean_squared_error',\n",
              "                   verbose=2)"
            ]
          },
          "metadata": {},
          "execution_count": 23
        }
      ]
    },
    {
      "cell_type": "code",
      "source": [
        "predictions = random_rf.predict(X_test)"
      ],
      "metadata": {
        "id": "HxYgc5cywC62"
      },
      "execution_count": 24,
      "outputs": []
    },
    {
      "cell_type": "code",
      "source": [
        "sns.distplot(y_test-predictions)"
      ],
      "metadata": {
        "colab": {
          "base_uri": "https://localhost:8080/",
          "height": 353
        },
        "id": "wCOuIfcrwLFK",
        "outputId": "b8a8f3dc-261e-4122-b534-dd777f57bde8"
      },
      "execution_count": 25,
      "outputs": [
        {
          "output_type": "stream",
          "name": "stderr",
          "text": [
            "/usr/local/lib/python3.7/dist-packages/seaborn/distributions.py:2619: FutureWarning: `distplot` is a deprecated function and will be removed in a future version. Please adapt your code to use either `displot` (a figure-level function with similar flexibility) or `histplot` (an axes-level function for histograms).\n",
            "  warnings.warn(msg, FutureWarning)\n"
          ]
        },
        {
          "output_type": "execute_result",
          "data": {
            "text/plain": [
              "<matplotlib.axes._subplots.AxesSubplot at 0x7fa64188efd0>"
            ]
          },
          "metadata": {},
          "execution_count": 25
        },
        {
          "output_type": "display_data",
          "data": {
            "text/plain": [
              "<Figure size 432x288 with 1 Axes>"
            ],
            "image/png": "[encoded data removed]"
          },
          "metadata": {
            "needs_background": "light"
          }
        }
      ]
    },
    {
      "cell_type": "code",
      "source": [
        "plt.scatter(y_test,predictions)"
      ],
      "metadata": {
        "colab": {
          "base_uri": "https://localhost:8080/",
          "height": 283
        },
        "id": "lWmVenVqwNNZ",
        "outputId": "32358010-db82-46f9-fb53-1c25a3b28188"
      },
      "execution_count": 26,
      "outputs": [
        {
          "output_type": "execute_result",
          "data": {
            "text/plain": [
              "<matplotlib.collections.PathCollection at 0x7fa63c2655d0>"
            ]
          },
          "metadata": {},
          "execution_count": 26
        },
        {
          "output_type": "display_data",
          "data": {
            "text/plain": [
              "<Figure size 432x288 with 1 Axes>"
            ],
            "image/png": "[encoded data removed]"
          },
          "metadata": {
            "needs_background": "light"
          }
        }
      ]
    },
    {
      "cell_type": "code",
      "execution_count": 27,
      "metadata": {
        "id": "f-CGiKO5XFCY"
      },
      "outputs": [],
      "source": [
        "from sklearn.linear_model import LinearRegression\n",
        "from sklearn.tree import DecisionTreeRegressor\n",
        "from sklearn.ensemble import RandomForestRegressor"
      ]
    },
    {
      "cell_type": "code",
      "execution_count": 28,
      "metadata": {
        "id": "r33gd8qaXFCZ"
      },
      "outputs": [],
      "source": [
        "algos = {\n",
        "    \"Linear Regression\": {\n",
        "        \"model\": LinearRegression(),\n",
        "        \"param\":{\n",
        "            \"normalize\":[True, False]\n",
        "        }\n",
        "    },\n",
        "    \"Decision Tree\": {\n",
        "        \"model\": DecisionTreeRegressor(),\n",
        "        \"param\": {\n",
        "            \"criterion\": [\"mse\", \"friedman_mse\"],\n",
        "            \"splitter\": [\"best\", \"random\"]\n",
        "        }\n",
        "    },\n",
        "    \"Random Forest\": {\n",
        "        \"model\": RandomForestRegressor(),\n",
        "        \"param\": {\n",
        "            \"n_estimators\": [int(x) for x in np.linspace(100, 1200, 12)],\n",
        "            \"max_features\": [\"auto\", \"sqrt\"],\n",
        "            \"max_depth\": [int(x) for x in np.linspace(5, 30, 6)],\n",
        "            \"min_samples_split\": [2, 5, 10, 15, 100],\n",
        "            \"min_samples_leaf\": [1, 2, 5, 10]\n",
        "        }\n",
        "    }\n",
        "}"
      ]
    },
    {
      "cell_type": "code",
      "execution_count": 29,
      "metadata": {
        "colab": {
          "base_uri": "https://localhost:8080/",
          "height": 270
        },
        "id": "kXHyjTTAXFCa",
        "outputId": "e7d8ba6c-0b99-41b9-a909-c535febf5ee7"
      },
      "outputs": [
        {
          "output_type": "stream",
          "name": "stderr",
          "text": [
            "/usr/local/lib/python3.7/dist-packages/sklearn/model_selection/_search.py:296: UserWarning: The total space of parameters 2 is smaller than n_iter=10. Running 2 iterations. For exhaustive searches, use GridSearchCV.\n",
            "  UserWarning,\n",
            "/usr/local/lib/python3.7/dist-packages/sklearn/linear_model/_base.py:155: FutureWarning: 'normalize' was deprecated in version 1.0 and will be removed in 1.2. Please leave the normalize parameter to its default value to silence this warning. The default behavior of this estimator is to not do any normalization. If normalization is needed please use sklearn.preprocessing.StandardScaler instead.\n",
            "  FutureWarning,\n",
            "/usr/local/lib/python3.7/dist-packages/sklearn/model_selection/_search.py:296: UserWarning: The total space of parameters 4 is smaller than n_iter=10. Running 4 iterations. For exhaustive searches, use GridSearchCV.\n",
            "  UserWarning,\n"
          ]
        },
        {
          "output_type": "execute_result",
          "data": {
            "text/plain": [
              "               Model                                    Best Parameters  \\\n",
              "0  Linear Regression                               {'normalize': False}   \n",
              "1      Decision Tree  {'splitter': 'random', 'criterion': 'friedman_...   \n",
              "2      Random Forest  {'n_estimators': 400, 'min_samples_split': 2, ...   \n",
              "\n",
              "   Best Score  \n",
              "0    0.315150  \n",
              "1    0.816288  \n",
              "2    0.847367  "
            ],
            "text/html": [
              "\n",
              "  <div id=\"df-f33fab8f-a5f0-4019-862e-b2e6b1e41b20\">\n",
              "    <div class=\"colab-df-container\">\n",
              "      <div>\n",
              "<style scoped>\n",
              "    .dataframe tbody tr th:only-of-type {\n",
              "        vertical-align: middle;\n",
              "    }\n",
              "\n",
              "    .dataframe tbody tr th {\n",
              "        vertical-align: top;\n",
              "    }\n",
              "\n",
              "    .dataframe thead th {\n",
              "        text-align: right;\n",
              "    }\n",
              "</style>\n",
              "<table border=\"1\" class=\"dataframe\">\n",
              "  <thead>\n",
              "    <tr style=\"text-align: right;\">\n",
              "      <th></th>\n",
              "      <th>Model</th>\n",
              "      <th>Best Parameters</th>\n",
              "      <th>Best Score</th>\n",
              "    </tr>\n",
              "  </thead>\n",
              "  <tbody>\n",
              "    <tr>\n",
              "      <th>0</th>\n",
              "      <td>Linear Regression</td>\n",
              "      <td>{'normalize': False}</td>\n",
              "      <td>0.315150</td>\n",
              "    </tr>\n",
              "    <tr>\n",
              "      <th>1</th>\n",
              "      <td>Decision Tree</td>\n",
              "      <td>{'splitter': 'random', 'criterion': 'friedman_...</td>\n",
              "      <td>0.816288</td>\n",
              "    </tr>\n",
              "    <tr>\n",
              "      <th>2</th>\n",
              "      <td>Random Forest</td>\n",
              "      <td>{'n_estimators': 400, 'min_samples_split': 2, ...</td>\n",
              "      <td>0.847367</td>\n",
              "    </tr>\n",
              "  </tbody>\n",
              "</table>\n",
              "</div>\n",
              "      <button class=\"colab-df-convert\" onclick=\"convertToInteractive('df-f33fab8f-a5f0-4019-862e-b2e6b1e41b20')\"\n",
              "              title=\"Convert this dataframe to an interactive table.\"\n",
              "              style=\"display:none;\">\n",
              "        \n",
              "  <svg xmlns=\"http://www.w3.org/2000/svg\" height=\"24px\"viewBox=\"0 0 24 24\"\n",
              "       width=\"24px\">\n",
              "    <path d=\"M0 0h24v24H0V0z\" fill=\"none\"/>\n",
              "    <path d=\"M18.56 5.44l.94 2.06.94-2.06 2.06-.94-2.06-.94-.94-2.06-.94 2.06-2.06.94zm-11 1L8.5 8.5l.94-2.06 2.06-.94-2.06-.94L8.5 2.5l-.94 2.06-2.06.94zm10 10l.94 2.06.94-2.06 2.06-.94-2.06-.94-.94-2.06-.94 2.06-2.06.94z\"/><path d=\"M17.41 7.96l-1.37-1.37c-.4-.4-.92-.59-1.43-.59-.52 0-1.04.2-1.43.59L10.3 9.45l-7.72 7.72c-.78.78-.78 2.05 0 2.83L4 21.41c.39.39.9.59 1.41.59.51 0 1.02-.2 1.41-.59l7.78-7.78 2.81-2.81c.8-.78.8-2.07 0-2.86zM5.41 20L4 18.59l7.72-7.72 1.47 1.35L5.41 20z\"/>\n",
              "  </svg>\n",
              "      </button>\n",
              "      \n",
              "  <style>\n",
              "    .colab-df-container {\n",
              "      display:flex;\n",
              "      flex-wrap:wrap;\n",
              "      gap: 12px;\n",
              "    }\n",
              "\n",
              "    .colab-df-convert {\n",
              "      background-color: #E8F0FE;\n",
              "      border: none;\n",
              "      border-radius: 50%;\n",
              "      cursor: pointer;\n",
              "      display: none;\n",
              "      fill: #1967D2;\n",
              "      height: 32px;\n",
              "      padding: 0 0 0 0;\n",
              "      width: 32px;\n",
              "    }\n",
              "\n",
              "    .colab-df-convert:hover {\n",
              "      background-color: #E2EBFA;\n",
              "      box-shadow: 0px 1px 2px rgba(60, 64, 67, 0.3), 0px 1px 3px 1px rgba(60, 64, 67, 0.15);\n",
              "      fill: #174EA6;\n",
              "    }\n",
              "\n",
              "    [theme=dark] .colab-df-convert {\n",
              "      background-color: #3B4455;\n",
              "      fill: #D2E3FC;\n",
              "    }\n",
              "\n",
              "    [theme=dark] .colab-df-convert:hover {\n",
              "      background-color: #434B5C;\n",
              "      box-shadow: 0px 1px 3px 1px rgba(0, 0, 0, 0.15);\n",
              "      filter: drop-shadow(0px 1px 2px rgba(0, 0, 0, 0.3));\n",
              "      fill: #FFFFFF;\n",
              "    }\n",
              "  </style>\n",
              "\n",
              "      <script>\n",
              "        const buttonEl =\n",
              "          document.querySelector('#df-f33fab8f-a5f0-4019-862e-b2e6b1e41b20 button.colab-df-convert');\n",
              "        buttonEl.style.display =\n",
              "          google.colab.kernel.accessAllowed ? 'block' : 'none';\n",
              "\n",
              "        async function convertToInteractive(key) {\n",
              "          const element = document.querySelector('#df-f33fab8f-a5f0-4019-862e-b2e6b1e41b20');\n",
              "          const dataTable =\n",
              "            await google.colab.kernel.invokeFunction('convertToInteractive',\n",
              "                                                     [key], {});\n",
              "          if (!dataTable) return;\n",
              "\n",
              "          const docLinkHtml = 'Like what you see? Visit the ' +\n",
              "            '<a target=\"_blank\" href=https://colab.research.google.com/notebooks/data_table.ipynb>data table notebook</a>'\n",
              "            + ' to learn more about interactive tables.';\n",
              "          element.innerHTML = '';\n",
              "          dataTable['output_type'] = 'display_data';\n",
              "          await google.colab.output.renderOutput(dataTable, element);\n",
              "          const docLink = document.createElement('div');\n",
              "          docLink.innerHTML = docLinkHtml;\n",
              "          element.appendChild(docLink);\n",
              "        }\n",
              "      </script>\n",
              "    </div>\n",
              "  </div>\n",
              "  "
            ]
          },
          "metadata": {},
          "execution_count": 29
        }
      ],
      "source": [
        "from sklearn.model_selection import RandomizedSearchCV\n",
        "\n",
        "best_models = {}\n",
        "scores = []\n",
        "for model_name, values in algos.items():\n",
        "    model_tunning = RandomizedSearchCV(values[\"model\"], values[\"param\"], n_iter=10, cv = 5, n_jobs = -1)\n",
        "    model_tunning.fit(X_train, y_train)\n",
        "    \n",
        "    best_models[model_name] = model_tunning\n",
        "    scores.append({\n",
        "        \"Model\": model_name,\n",
        "        \"Best Parameters\": model_tunning.best_params_,\n",
        "        \"Best Score\": model_tunning.best_score_\n",
        "    })\n",
        "    \n",
        "pd.DataFrame(scores)"
      ]
    },
    {
      "cell_type": "code",
      "execution_count": 30,
      "metadata": {
        "colab": {
          "base_uri": "https://localhost:8080/"
        },
        "id": "Vm0s7NWwXFCb",
        "outputId": "095906c3-b98b-4382-a3af-f3f329724c50"
      },
      "outputs": [
        {
          "output_type": "stream",
          "name": "stdout",
          "text": [
            "Linear Regression  :  0.5824139176599454\n",
            "Decision Tree  :  0.7371241585378088\n",
            "Random Forest  :  0.8856435178732164\n"
          ]
        }
      ],
      "source": [
        "for name, model in best_models.items():\n",
        "    print(name, \" : \", model.score(X_test, y_test))\n"
      ]
    },
    {
      "cell_type": "markdown",
      "metadata": {
        "id": "EaqVLSJxXFCb"
      },
      "source": [
        "##### so we can see above when we test those trained model using test data we get random forest is best algorithm with 88% accuracy "
      ]
    },
    {
      "cell_type": "code",
      "execution_count": 31,
      "metadata": {
        "id": "tEbqyF-RXFCh"
      },
      "outputs": [],
      "source": [
        "final_model = best_models[\"Random Forest\"]"
      ]
    },
    {
      "cell_type": "code",
      "execution_count": 32,
      "metadata": {
        "id": "jLvygTdOXFCi"
      },
      "outputs": [],
      "source": [
        "def predict_price(year, present_price, kms, owner, diesel, petrol, individual, manual, vehicle):\n",
        "    vehicle_index = np.where(X.columns == vehicle.lower())[0][0]\n",
        "    X_pred = np.zeros_like(X.columns)\n",
        "    \n",
        "    feature_list = [year, present_price, kms, owner, diesel, petrol, individual, manual]\n",
        "    count = 0\n",
        "    for f in feature_list:\n",
        "        X_pred[count] = f\n",
        "        count += 1\n",
        "    \n",
        "    if vehicle_index > 0:\n",
        "        X_pred[vehicle_index] = 1\n",
        "    \n",
        "    result = final_model.predict([X_pred])\n",
        "    \n",
        "    return result\n"
      ]
    },
    {
      "cell_type": "code",
      "execution_count": 33,
      "metadata": {
        "colab": {
          "base_uri": "https://localhost:8080/"
        },
        "id": "o-pNrRdIXFCj",
        "outputId": "e855366e-9035-488d-f23e-c7e50614dff7"
      },
      "outputs": [
        {
          "output_type": "stream",
          "name": "stderr",
          "text": [
            "/usr/local/lib/python3.7/dist-packages/sklearn/base.py:451: UserWarning: X does not have valid feature names, but RandomForestRegressor was fitted with feature names\n",
            "  \"X does not have valid feature names, but\"\n"
          ]
        },
        {
          "output_type": "execute_result",
          "data": {
            "text/plain": [
              "array([6.40540922])"
            ]
          },
          "metadata": {},
          "execution_count": 33
        }
      ],
      "source": [
        "predict_price(8, 9.54, 43000, 0, 1, 0, 0, 1, \"creta\")"
      ]
    },
    {
      "cell_type": "code",
      "execution_count": 34,
      "metadata": {
        "id": "gt3_b5-oXFCj"
      },
      "outputs": [],
      "source": [
        "import pickle\n",
        "\n",
        "with open(\"model.pkl\", \"wb\") as f:\n",
        "    pickle.dump(final_model, f)"
      ]
    },
    {
      "cell_type": "code",
      "execution_count": 35,
      "metadata": {
        "id": "OVxGEWN7XFCk"
      },
      "outputs": [],
      "source": [
        "import json\n",
        "\n",
        "column_dict = {\"data_columns\": X.columns.to_list()}\n",
        "\n",
        "with open(\"columns.json\", \"w\") as f:\n",
        "    json.dump(column_dict, f)"
      ]
    },
    {
      "cell_type": "code",
      "source": [
        "df['Year'].values"
      ],
      "metadata": {
        "colab": {
          "base_uri": "https://localhost:8080/"
        },
        "id": "OCPBGCrUpZY4",
        "outputId": "4fb73bfc-e0eb-4034-9940-f82efbc4af16"
      },
      "execution_count": 36,
      "outputs": [
        {
          "output_type": "execute_result",
          "data": {
            "text/plain": [
              "array([ 8,  9,  5, 11,  8,  4,  7,  7,  6,  7,  5,  7,  7,  7, 13,  6,  7,\n",
              "        6,  7, 12,  6,  5, 11,  8,  9, 11,  9,  5, 12,  7, 10, 11,  8,  8,\n",
              "        8, 11,  7, 19,  6, 19,  6,  8, 14,  8, 10,  8,  9, 16,  7,  5, 10,\n",
              "        7,  5,  9, 17, 13,  7, 12,  8,  8,  9,  7,  8,  7,  5,  8,  5, 12,\n",
              "       11,  6,  8, 11,  9, 11,  8,  7,  9, 18, 12, 10,  6,  7,  5,  7, 17,\n",
              "       16, 12, 10,  9,  8, 13,  8, 17,  7, 14, 10,  6,  5,  9, 12,  6,  5,\n",
              "        5,  5,  5,  7,  8,  9,  6,  5,  6,  6,  8,  6,  7,  7,  9,  7,  7,\n",
              "        9,  6, 11,  6,  9, 10, 13,  5,  6,  5,  5,  5,  7,  5,  6,  5,  7,\n",
              "        8,  9,  6,  7,  9,  6,  7,  6,  8, 10,  8,  7, 12,  6, 11,  6, 10,\n",
              "        9,  8,  5,  5,  7,  5,  5, 11,  8, 10, 12,  6,  6,  6,  8,  9,  7,\n",
              "       10,  7,  8,  5,  7, 11, 11,  6,  8, 12, 10,  6,  9,  9, 14, 14, 12,\n",
              "        9,  9, 17, 14, 10, 15,  9, 14,  7, 14, 12, 11, 15, 16, 12,  7, 11,\n",
              "        7,  6,  5,  7,  5,  7, 10,  7,  6, 11,  5, 10,  6,  6,  8, 10,  5,\n",
              "        9,  8,  7,  9, 11,  7, 11, 10, 10,  9,  5,  7,  9,  7,  5,  6,  7,\n",
              "        9, 10, 10,  7,  8,  6,  9, 10, 10,  7,  9,  6,  6,  9,  7,  8,  9,\n",
              "       10,  6,  7,  7,  8,  6,  6,  7,  6,  7,  5,  8,  6,  5,  7, 11, 13,\n",
              "        7, 12,  8,  6,  7,  7,  6,  8,  7, 16,  8,  6,  9,  6,  6,  7,  7,\n",
              "        6,  8,  7,  6, 12,  8,  7,  6,  7, 13,  5,  6])"
            ]
          },
          "metadata": {},
          "execution_count": 36
        }
      ]
    },
    {
      "cell_type": "code",
      "source": [
        "df.head()"
      ],
      "metadata": {
        "colab": {
          "base_uri": "https://localhost:8080/",
          "height": 334
        },
        "id": "gG_kJL6tpuHX",
        "outputId": "6b7c5b4d-0301-4afb-846a-242e7269384a"
      },
      "execution_count": 37,
      "outputs": [
        {
          "output_type": "execute_result",
          "data": {
            "text/plain": [
              "   Year  Selling_Price  Present_Price  Kms_Driven  Owner  Fuel_Type_Diesel  \\\n",
              "0     8           3.35           5.59       27000      0                 0   \n",
              "1     9           4.75           9.54       43000      0                 1   \n",
              "2     5           7.25           9.85        6900      0                 0   \n",
              "3    11           2.85           4.15        5200      0                 0   \n",
              "4     8           4.60           6.87       42450      0                 1   \n",
              "\n",
              "   Fuel_Type_Petrol  Seller_Type_Individual  Transmission_Manual  activa 3g  \\\n",
              "0                 1                       0                    1          0   \n",
              "1                 0                       0                    1          0   \n",
              "2                 1                       0                    1          0   \n",
              "3                 1                       0                    1          0   \n",
              "4                 0                       0                    1          0   \n",
              "\n",
              "   ...  um renegade mojave  verna  vitara brezza  wagon r  xcent  \\\n",
              "0  ...                   0      0              0        0      0   \n",
              "1  ...                   0      0              0        0      0   \n",
              "2  ...                   0      0              0        0      0   \n",
              "3  ...                   0      0              0        1      0   \n",
              "4  ...                   0      0              0        0      0   \n",
              "\n",
              "   yamaha fazer   yamaha fz  v 2.0  yamaha fz 16  yamaha fz s   \\\n",
              "0              0                 0             0             0   \n",
              "1              0                 0             0             0   \n",
              "2              0                 0             0             0   \n",
              "3              0                 0             0             0   \n",
              "4              0                 0             0             0   \n",
              "\n",
              "   yamaha fz s v 2.0  \n",
              "0                  0  \n",
              "1                  0  \n",
              "2                  0  \n",
              "3                  0  \n",
              "4                  0  \n",
              "\n",
              "[5 rows x 106 columns]"
            ],
            "text/html": [
              "\n",
              "  <div id=\"df-7ca14911-c859-444b-97e5-626e44efdfcd\">\n",
              "    <div class=\"colab-df-container\">\n",
              "      <div>\n",
              "<style scoped>\n",
              "    .dataframe tbody tr th:only-of-type {\n",
              "        vertical-align: middle;\n",
              "    }\n",
              "\n",
              "    .dataframe tbody tr th {\n",
              "        vertical-align: top;\n",
              "    }\n",
              "\n",
              "    .dataframe thead th {\n",
              "        text-align: right;\n",
              "    }\n",
              "</style>\n",
              "<table border=\"1\" class=\"dataframe\">\n",
              "  <thead>\n",
              "    <tr style=\"text-align: right;\">\n",
              "      <th></th>\n",
              "      <th>Year</th>\n",
              "      <th>Selling_Price</th>\n",
              "      <th>Present_Price</th>\n",
              "      <th>Kms_Driven</th>\n",
              "      <th>Owner</th>\n",
              "      <th>Fuel_Type_Diesel</th>\n",
              "      <th>Fuel_Type_Petrol</th>\n",
              "      <th>Seller_Type_Individual</th>\n",
              "      <th>Transmission_Manual</th>\n",
              "      <th>activa 3g</th>\n",
              "      <th>...</th>\n",
              "      <th>um renegade mojave</th>\n",
              "      <th>verna</th>\n",
              "      <th>vitara brezza</th>\n",
              "      <th>wagon r</th>\n",
              "      <th>xcent</th>\n",
              "      <th>yamaha fazer</th>\n",
              "      <th>yamaha fz  v 2.0</th>\n",
              "      <th>yamaha fz 16</th>\n",
              "      <th>yamaha fz s</th>\n",
              "      <th>yamaha fz s v 2.0</th>\n",
              "    </tr>\n",
              "  </thead>\n",
              "  <tbody>\n",
              "    <tr>\n",
              "      <th>0</th>\n",
              "      <td>8</td>\n",
              "      <td>3.35</td>\n",
              "      <td>5.59</td>\n",
              "      <td>27000</td>\n",
              "      <td>0</td>\n",
              "      <td>0</td>\n",
              "      <td>1</td>\n",
              "      <td>0</td>\n",
              "      <td>1</td>\n",
              "      <td>0</td>\n",
              "      <td>...</td>\n",
              "      <td>0</td>\n",
              "      <td>0</td>\n",
              "      <td>0</td>\n",
              "      <td>0</td>\n",
              "      <td>0</td>\n",
              "      <td>0</td>\n",
              "      <td>0</td>\n",
              "      <td>0</td>\n",
              "      <td>0</td>\n",
              "      <td>0</td>\n",
              "    </tr>\n",
              "    <tr>\n",
              "      <th>1</th>\n",
              "      <td>9</td>\n",
              "      <td>4.75</td>\n",
              "      <td>9.54</td>\n",
              "      <td>43000</td>\n",
              "      <td>0</td>\n",
              "      <td>1</td>\n",
              "      <td>0</td>\n",
              "      <td>0</td>\n",
              "      <td>1</td>\n",
              "      <td>0</td>\n",
              "      <td>...</td>\n",
              "      <td>0</td>\n",
              "      <td>0</td>\n",
              "      <td>0</td>\n",
              "      <td>0</td>\n",
              "      <td>0</td>\n",
              "      <td>0</td>\n",
              "      <td>0</td>\n",
              "      <td>0</td>\n",
              "      <td>0</td>\n",
              "      <td>0</td>\n",
              "    </tr>\n",
              "    <tr>\n",
              "      <th>2</th>\n",
              "      <td>5</td>\n",
              "      <td>7.25</td>\n",
              "      <td>9.85</td>\n",
              "      <td>6900</td>\n",
              "      <td>0</td>\n",
              "      <td>0</td>\n",
              "      <td>1</td>\n",
              "      <td>0</td>\n",
              "      <td>1</td>\n",
              "      <td>0</td>\n",
              "      <td>...</td>\n",
              "      <td>0</td>\n",
              "      <td>0</td>\n",
              "      <td>0</td>\n",
              "      <td>0</td>\n",
              "      <td>0</td>\n",
              "      <td>0</td>\n",
              "      <td>0</td>\n",
              "      <td>0</td>\n",
              "      <td>0</td>\n",
              "      <td>0</td>\n",
              "    </tr>\n",
              "    <tr>\n",
              "      <th>3</th>\n",
              "      <td>11</td>\n",
              "      <td>2.85</td>\n",
              "      <td>4.15</td>\n",
              "      <td>5200</td>\n",
              "      <td>0</td>\n",
              "      <td>0</td>\n",
              "      <td>1</td>\n",
              "      <td>0</td>\n",
              "      <td>1</td>\n",
              "      <td>0</td>\n",
              "      <td>...</td>\n",
              "      <td>0</td>\n",
              "      <td>0</td>\n",
              "      <td>0</td>\n",
              "      <td>1</td>\n",
              "      <td>0</td>\n",
              "      <td>0</td>\n",
              "      <td>0</td>\n",
              "      <td>0</td>\n",
              "      <td>0</td>\n",
              "      <td>0</td>\n",
              "    </tr>\n",
              "    <tr>\n",
              "      <th>4</th>\n",
              "      <td>8</td>\n",
              "      <td>4.60</td>\n",
              "      <td>6.87</td>\n",
              "      <td>42450</td>\n",
              "      <td>0</td>\n",
              "      <td>1</td>\n",
              "      <td>0</td>\n",
              "      <td>0</td>\n",
              "      <td>1</td>\n",
              "      <td>0</td>\n",
              "      <td>...</td>\n",
              "      <td>0</td>\n",
              "      <td>0</td>\n",
              "      <td>0</td>\n",
              "      <td>0</td>\n",
              "      <td>0</td>\n",
              "      <td>0</td>\n",
              "      <td>0</td>\n",
              "      <td>0</td>\n",
              "      <td>0</td>\n",
              "      <td>0</td>\n",
              "    </tr>\n",
              "  </tbody>\n",
              "</table>\n",
              "<p>5 rows × 106 columns</p>\n",
              "</div>\n",
              "      <button class=\"colab-df-convert\" onclick=\"convertToInteractive('df-7ca14911-c859-444b-97e5-626e44efdfcd')\"\n",
              "              title=\"Convert this dataframe to an interactive table.\"\n",
              "              style=\"display:none;\">\n",
              "        \n",
              "  <svg xmlns=\"http://www.w3.org/2000/svg\" height=\"24px\"viewBox=\"0 0 24 24\"\n",
              "       width=\"24px\">\n",
              "    <path d=\"M0 0h24v24H0V0z\" fill=\"none\"/>\n",
              "    <path d=\"M18.56 5.44l.94 2.06.94-2.06 2.06-.94-2.06-.94-.94-2.06-.94 2.06-2.06.94zm-11 1L8.5 8.5l.94-2.06 2.06-.94-2.06-.94L8.5 2.5l-.94 2.06-2.06.94zm10 10l.94 2.06.94-2.06 2.06-.94-2.06-.94-.94-2.06-.94 2.06-2.06.94z\"/><path d=\"M17.41 7.96l-1.37-1.37c-.4-.4-.92-.59-1.43-.59-.52 0-1.04.2-1.43.59L10.3 9.45l-7.72 7.72c-.78.78-.78 2.05 0 2.83L4 21.41c.39.39.9.59 1.41.59.51 0 1.02-.2 1.41-.59l7.78-7.78 2.81-2.81c.8-.78.8-2.07 0-2.86zM5.41 20L4 18.59l7.72-7.72 1.47 1.35L5.41 20z\"/>\n",
              "  </svg>\n",
              "      </button>\n",
              "      \n",
              "  <style>\n",
              "    .colab-df-container {\n",
              "      display:flex;\n",
              "      flex-wrap:wrap;\n",
              "      gap: 12px;\n",
              "    }\n",
              "\n",
              "    .colab-df-convert {\n",
              "      background-color: #E8F0FE;\n",
              "      border: none;\n",
              "      border-radius: 50%;\n",
              "      cursor: pointer;\n",
              "      display: none;\n",
              "      fill: #1967D2;\n",
              "      height: 32px;\n",
              "      padding: 0 0 0 0;\n",
              "      width: 32px;\n",
              "    }\n",
              "\n",
              "    .colab-df-convert:hover {\n",
              "      background-color: #E2EBFA;\n",
              "      box-shadow: 0px 1px 2px rgba(60, 64, 67, 0.3), 0px 1px 3px 1px rgba(60, 64, 67, 0.15);\n",
              "      fill: #174EA6;\n",
              "    }\n",
              "\n",
              "    [theme=dark] .colab-df-convert {\n",
              "      background-color: #3B4455;\n",
              "      fill: #D2E3FC;\n",
              "    }\n",
              "\n",
              "    [theme=dark] .colab-df-convert:hover {\n",
              "      background-color: #434B5C;\n",
              "      box-shadow: 0px 1px 3px 1px rgba(0, 0, 0, 0.15);\n",
              "      filter: drop-shadow(0px 1px 2px rgba(0, 0, 0, 0.3));\n",
              "      fill: #FFFFFF;\n",
              "    }\n",
              "  </style>\n",
              "\n",
              "      <script>\n",
              "        const buttonEl =\n",
              "          document.querySelector('#df-7ca14911-c859-444b-97e5-626e44efdfcd button.colab-df-convert');\n",
              "        buttonEl.style.display =\n",
              "          google.colab.kernel.accessAllowed ? 'block' : 'none';\n",
              "\n",
              "        async function convertToInteractive(key) {\n",
              "          const element = document.querySelector('#df-7ca14911-c859-444b-97e5-626e44efdfcd');\n",
              "          const dataTable =\n",
              "            await google.colab.kernel.invokeFunction('convertToInteractive',\n",
              "                                                     [key], {});\n",
              "          if (!dataTable) return;\n",
              "\n",
              "          const docLinkHtml = 'Like what you see? Visit the ' +\n",
              "            '<a target=\"_blank\" href=https://colab.research.google.com/notebooks/data_table.ipynb>data table notebook</a>'\n",
              "            + ' to learn more about interactive tables.';\n",
              "          element.innerHTML = '';\n",
              "          dataTable['output_type'] = 'display_data';\n",
              "          await google.colab.output.renderOutput(dataTable, element);\n",
              "          const docLink = document.createElement('div');\n",
              "          docLink.innerHTML = docLinkHtml;\n",
              "          element.appendChild(docLink);\n",
              "        }\n",
              "      </script>\n",
              "    </div>\n",
              "  </div>\n",
              "  "
            ]
          },
          "metadata": {},
          "execution_count": 37
        }
      ]
    }
  ],
  "metadata": {
    "kernelspec": {
      "display_name": "Python 3 (ipykernel)",
      "language": "python",
      "name": "python3"
    },
    "language_info": {
      "codemirror_mode": {
        "name": "ipython",
        "version": 3
      },
      "file_extension": ".py",
      "mimetype": "text/x-python",
      "name": "python",
      "nbconvert_exporter": "python",
      "pygments_lexer": "ipython3",
      "version": "3.8.10"
    },
    "colab": {
      "name": "Used Car Price Prediction.ipynb",
      "provenance": [],
      "collapsed_sections": []
    }
  },
  "nbformat": 4,
  "nbformat_minor": 0
}